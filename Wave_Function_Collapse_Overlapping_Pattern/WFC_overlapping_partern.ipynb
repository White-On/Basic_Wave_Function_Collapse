{
 "cells": [
  {
   "cell_type": "code",
   "execution_count": 5,
   "metadata": {},
   "outputs": [],
   "source": [
    "import numpy as np\n",
    "import matplotlib.pyplot as plt\n",
    "from PIL import Image"
   ]
  },
  {
   "cell_type": "code",
   "execution_count": 6,
   "metadata": {},
   "outputs": [
    {
     "data": {
      "image/png": "[encoded data removed]",
      "text/plain": [
       "<Figure size 432x288 with 1 Axes>"
      ]
     },
     "metadata": {
      "needs_background": "light"
     },
     "output_type": "display_data"
    },
    {
     "name": "stdout",
     "output_type": "stream",
     "text": [
      "(9, 9, 4)\n"
     ]
    }
   ],
   "source": [
    "tiles_path = \"../tiles/city.png\"\n",
    "img = np.asarray(Image.open(tiles_path))\n",
    "plt.imshow(img)\n",
    "plt.axis('off')\n",
    "plt.show()\n",
    "print(img.shape)"
   ]
  },
  {
   "cell_type": "markdown",
   "metadata": {},
   "source": [
    "# Get all the tiles"
   ]
  },
  {
   "cell_type": "code",
   "execution_count": 7,
   "metadata": {},
   "outputs": [],
   "source": [
    "def plot_tiles(list_tiles:list,img=None):\n",
    "    nb_tiles = len(list_tiles)\n",
    "    if img is None:\n",
    "        a,b = nb_tiles//20+1, 20\n",
    "    else:\n",
    "        a,b = img.shape[:2]\n",
    "        a-=2\n",
    "        b-=2\n",
    "\n",
    "    fig, axs = plt.subplots(a, b, figsize=(10,10))\n",
    "    for ax, tile in zip(axs.flat, list_tiles):\n",
    "        ax.imshow(tile)\n",
    "        ax.yaxis.set_visible(False)\n",
    "        ax.xaxis.set_visible(False)\n",
    "    plt.show()\n",
    "    print(f'There is {nb_tiles} tiles in totals')"
   ]
  },
  {
   "cell_type": "code",
   "execution_count": 8,
   "metadata": {},
   "outputs": [
    {
     "name": "stdout",
     "output_type": "stream",
     "text": [
      "(10, 10, 4)\n"
     ]
    },
    {
     "data": {
      "image/png": "[encoded data removed]",
      "text/plain": [
       "<Figure size 432x288 with 1 Axes>"
      ]
     },
     "metadata": {
      "needs_background": "light"
     },
     "output_type": "display_data"
    },
    {
     "data": {
      "image/png": "[encoded data removed]",
      "text/plain": [
       "<Figure size 432x288 with 1 Axes>"
      ]
     },
     "metadata": {
      "needs_background": "light"
     },
     "output_type": "display_data"
    }
   ],
   "source": [
    "import numpy as np\n",
    "\n",
    "def copy_tile(source, sx, sy, w):\n",
    "    \"\"\"\n",
    "    Copy a w x w tile from the source image to the destination array, \n",
    "    wrapping around edges using modulo indexing.\n",
    "\n",
    "    Args:\n",
    "    - source (np.ndarray): Source image as a (H, W, 4) NumPy array (RGBA).\n",
    "    - sx (int): X-coordinate of the top-left corner in the source.\n",
    "    - sy (int): Y-coordinate of the top-left corner in the source.\n",
    "    - w (int): Width of the tile.\n",
    "    \"\"\"\n",
    "\n",
    "    H, W, _ = source.shape  # Get source dimensions\n",
    "\n",
    "    # Compute wrapped indices for x and y using modulo\n",
    "    x_indices = np.mod(np.arange(sx, sx + w), W)\n",
    "    y_indices = np.mod(np.arange(sy, sy + w), H)\n",
    "\n",
    "    # Extract the tile using NumPy advanced indexing\n",
    "    tile = source[np.ix_(y_indices, x_indices)]  # Shape (w, w, 4)\n",
    "\n",
    "    # Copy to destination\n",
    "    return tile\n",
    "\n",
    "\n",
    "# Example: Create a dummy source image (RGBA)\n",
    "source = img\n",
    "\n",
    "# Copy a tile from (sx=95, sy=95) to dest (size 10x10)\n",
    "dest = copy_tile(source, 95, 95, 10)\n",
    "print(dest.shape)\n",
    "plt.imshow(source)\n",
    "plt.show()\n",
    "plt.imshow(dest)\n",
    "plt.show()"
   ]
  },
  {
   "cell_type": "code",
   "execution_count": 9,
   "metadata": {},
   "outputs": [
    {
     "name": "stdout",
     "output_type": "stream",
     "text": [
      "81 tiles extracted\n"
     ]
    },
    {
     "data": {
      "image/png": "[encoded data removed]",
      "text/plain": [
       "<Figure size 720x720 with 100 Axes>"
      ]
     },
     "metadata": {
      "needs_background": "light"
     },
     "output_type": "display_data"
    },
    {
     "name": "stdout",
     "output_type": "stream",
     "text": [
      "There is 81 tiles in totals\n"
     ]
    }
   ],
   "source": [
    "def extract_tiles_from_img(img:np.array, tile_size:int) -> list:\n",
    "    extracted_tiles = []\n",
    "    N,M,_ = img.shape\n",
    "    for i in range(N):\n",
    "        for j in range(M):\n",
    "            # tile = img[i:i+tile_size[0],j:j+tile_size[1]]\n",
    "            tile = copy_tile(img, i, j, tile_size)\n",
    "            extracted_tiles.append(tile)\n",
    "    return extracted_tiles\n",
    "\n",
    "tiles = extract_tiles_from_img(img,3)\n",
    "print(f'{len(tiles)} tiles extracted')\n",
    "plot_tiles(tiles)"
   ]
  },
  {
   "cell_type": "code",
   "execution_count": 10,
   "metadata": {},
   "outputs": [],
   "source": [
    "def create_uniform_tile(tile: np.ndarray, size: int) -> np.ndarray:\n",
    "    \"\"\"\n",
    "    Creates a new tile of given size filled with the middle pixel of the input tile.\n",
    "    \n",
    "    Parameters:\n",
    "        tile (np.ndarray): Input tile (2D or 3D NumPy array).\n",
    "        size (int): Size of the output tile (size x size).\n",
    "    \n",
    "    Returns:\n",
    "        np.ndarray: A new tile filled with the middle pixel value.\n",
    "    \"\"\"\n",
    "    # Get the dimensions of the input tile\n",
    "    h, w = tile.shape[:2]\n",
    "\n",
    "    # Find the middle pixel coordinates\n",
    "    mid_x, mid_y = h // 2, w // 2\n",
    "\n",
    "    # Extract the middle pixel (handles both grayscale and RGB images)\n",
    "    middle_pixel = tile[mid_x, mid_y]\n",
    "\n",
    "    # Create a new tile filled with the middle pixel value\n",
    "    new_tile = np.full((size, size, *middle_pixel.shape) if tile.ndim == 3 else (size, size), middle_pixel, dtype=tile.dtype)\n",
    "\n",
    "    return new_tile\n",
    "\n",
    "\n",
    "# Image.fromarray(create_uniform_tile(tiles[0],20), mode='RGBA').show()"
   ]
  },
  {
   "cell_type": "markdown",
   "metadata": {},
   "source": [
    "# Get more tiles by rotating the image"
   ]
  },
  {
   "cell_type": "code",
   "execution_count": 11,
   "metadata": {},
   "outputs": [
    {
     "data": {
      "image/png": "[encoded data removed]",
      "text/plain": [
       "<Figure size 720x720 with 340 Axes>"
      ]
     },
     "metadata": {
      "needs_background": "light"
     },
     "output_type": "display_data"
    },
    {
     "name": "stdout",
     "output_type": "stream",
     "text": [
      "There is 324 tiles in totals\n"
     ]
    }
   ],
   "source": [
    "def extract_tiles_from_img_with_rotation(img):\n",
    "    result = []\n",
    "    copy = img.copy()\n",
    "    for _ in range(4):\n",
    "        result += extract_tiles_from_img(copy,3)\n",
    "        copy = np.rot90(copy)\n",
    "    return result\n",
    "\n",
    "tiles = extract_tiles_from_img_with_rotation(img)\n",
    "plot_tiles(tiles)"
   ]
  },
  {
   "cell_type": "markdown",
   "metadata": {},
   "source": [
    "# Filter for unique Tiles"
   ]
  },
  {
   "cell_type": "code",
   "execution_count": 12,
   "metadata": {},
   "outputs": [
    {
     "data": {
      "image/png": "[encoded data removed]",
      "text/plain": [
       "<Figure size 720x720 with 60 Axes>"
      ]
     },
     "metadata": {
      "needs_background": "light"
     },
     "output_type": "display_data"
    },
    {
     "name": "stdout",
     "output_type": "stream",
     "text": [
      "There is 41 tiles in totals\n"
     ]
    }
   ],
   "source": [
    "def get_unique_tiles(list_tiles):\n",
    "    unique = []\n",
    "    def is_in_list(list,element):\n",
    "        for elem in list:\n",
    "            if np.array_equal(elem,element):\n",
    "                return True\n",
    "    for tile in list_tiles:\n",
    "        if not is_in_list(unique,tile):\n",
    "            unique.append(tile)\n",
    "    \n",
    "    return unique\n",
    "\n",
    "tiles = extract_tiles_from_img_with_rotation(img)\n",
    "unique = get_unique_tiles(tiles)\n",
    "plot_tiles(unique)"
   ]
  },
  {
   "cell_type": "code",
   "execution_count": 13,
   "metadata": {},
   "outputs": [
    {
     "data": {
      "image/png": "[encoded data removed]",
      "text/plain": [
       "<Figure size 432x288 with 1 Axes>"
      ]
     },
     "metadata": {
      "needs_background": "light"
     },
     "output_type": "display_data"
    },
    {
     "name": "stdout",
     "output_type": "stream",
     "text": [
      "[[[176.41463415 130.53658537 132.29268293 255.        ]\n",
      "  [163.97560976 118.09756098 119.85365854 255.        ]\n",
      "  [176.41463415 130.53658537 132.29268293 255.        ]]\n",
      "\n",
      " [[163.97560976 118.09756098 119.85365854 255.        ]\n",
      "  [151.53658537 105.65853659 107.41463415 255.        ]\n",
      "  [163.97560976 118.09756098 119.85365854 255.        ]]\n",
      "\n",
      " [[176.41463415 130.53658537 132.29268293 255.        ]\n",
      "  [163.97560976 118.09756098 119.85365854 255.        ]\n",
      "  [176.41463415 130.53658537 132.29268293 255.        ]]]\n"
     ]
    }
   ],
   "source": [
    "plt.imshow(np.mean(unique,axis=0)/255)\n",
    "plt.axis('off')\n",
    "plt.show()\n",
    "print(np.mean(unique,axis=0))"
   ]
  },
  {
   "cell_type": "code",
   "execution_count": 14,
   "metadata": {},
   "outputs": [
    {
     "name": "stdout",
     "output_type": "stream",
     "text": [
      "[ 4.  4. 12.  4.  4.  4.  4.  4.  4. 12.  4.  4. 20. 20. 12. 12. 36. 12.\n",
      " 12.  4.  4. 12.  4.  4.  4.  4. 12.  4.  4.  4.  4.  4. 20.  4.  4.  4.\n",
      "  4. 20.  4.  4.  4.]\n"
     ]
    }
   ],
   "source": [
    "def frequency_tiles(tiles_list):\n",
    "    unique_tiles = get_unique_tiles(tiles_list)\n",
    "    frequency = np.zeros(len(unique_tiles))\n",
    "    for t1 in tiles_list:\n",
    "        for idx, t2 in enumerate(unique_tiles):\n",
    "            if np.array_equal(t1, t2):\n",
    "                frequency[idx] +=1\n",
    "    \n",
    "    return frequency\n",
    "\n",
    "print(frequency_tiles(tiles))"
   ]
  },
  {
   "cell_type": "code",
   "execution_count": 15,
   "metadata": {},
   "outputs": [
    {
     "data": {
      "image/png": "[encoded data removed]",
      "text/plain": [
       "<Figure size 432x288 with 1 Axes>"
      ]
     },
     "metadata": {
      "needs_background": "light"
     },
     "output_type": "display_data"
    },
    {
     "data": {
      "image/png": "[encoded data removed]",
      "text/plain": [
       "<Figure size 432x288 with 1 Axes>"
      ]
     },
     "metadata": {
      "needs_background": "light"
     },
     "output_type": "display_data"
    }
   ],
   "source": [
    "plt.imshow(unique[14][:,:2])\n",
    "plt.show()\n",
    "plt.imshow(unique[15][:,1:])\n",
    "plt.show()"
   ]
  },
  {
   "cell_type": "code",
   "execution_count": 16,
   "metadata": {},
   "outputs": [],
   "source": [
    "def overlaping_tile_east(tile1, tile2):\n",
    "    return np.array_equal(tile1[:,1:],tile2[:,:2])\n",
    "\n",
    "def overlaping_tile_south(tile1, tile2):\n",
    "    return np.array_equal(tile1[1:,:],tile2[:2,:])\n",
    "\n",
    "def overlaping_tile_west(tile1, tile2):\n",
    "    return np.array_equal(tile1[:,:2],tile2[:,1:])\n",
    "\n",
    "def overlaping_tile_north(tile1, tile2):\n",
    "    return np.array_equal(tile1[:2,:],tile2[1:,:])\n",
    "\n"
   ]
  },
  {
   "cell_type": "code",
   "execution_count": 17,
   "metadata": {},
   "outputs": [],
   "source": [
    "NORTH = 0\n",
    "EAST = 1\n",
    "SOUTH = 2\n",
    "WEST = 3\n",
    "\n",
    "def evaluate_neighboor(list_tiles):\n",
    "    neighboor = {i:[[],[],[],[]] for i in range(len(list_tiles))}\n",
    "    for i, tile1 in enumerate(list_tiles):\n",
    "        for j, tile2 in enumerate(list_tiles):\n",
    "            neighboor[i][NORTH].append(j) if overlaping_tile_north(tile1, tile2) else None\n",
    "            neighboor[i][EAST].append(j) if overlaping_tile_east(tile1, tile2) else None\n",
    "            neighboor[i][SOUTH].append(j) if overlaping_tile_south(tile1, tile2) else None\n",
    "            neighboor[i][WEST].append(j) if overlaping_tile_west(tile1, tile2) else None\n",
    "    \n",
    "    return neighboor\n",
    "\n",
    "nb = evaluate_neighboor(unique)\n"
   ]
  },
  {
   "cell_type": "code",
   "execution_count": 20,
   "metadata": {},
   "outputs": [
    {
     "data": {
      "image/png": "[encoded data removed]",
      "text/plain": [
       "<Figure size 432x288 with 1 Axes>"
      ]
     },
     "metadata": {
      "needs_background": "light"
     },
     "output_type": "display_data"
    },
    {
     "data": {
      "image/png": "[encoded data removed]",
      "text/plain": [
       "<Figure size 432x288 with 1 Axes>"
      ]
     },
     "metadata": {
      "needs_background": "light"
     },
     "output_type": "display_data"
    },
    {
     "data": {
      "image/png": "[encoded data removed]",
      "text/plain": [
       "<Figure size 432x288 with 1 Axes>"
      ]
     },
     "metadata": {
      "needs_background": "light"
     },
     "output_type": "display_data"
    },
    {
     "data": {
      "image/png": "[encoded data removed]",
      "text/plain": [
       "<Figure size 432x288 with 1 Axes>"
      ]
     },
     "metadata": {
      "needs_background": "light"
     },
     "output_type": "display_data"
    },
    {
     "data": {
      "image/png": "[encoded data removed]",
      "text/plain": [
       "<Figure size 432x288 with 1 Axes>"
      ]
     },
     "metadata": {
      "needs_background": "light"
     },
     "output_type": "display_data"
    }
   ],
   "source": [
    "plt.imshow(unique[0])\n",
    "plt.show()\n",
    "for element in nb[0]:\n",
    "    plt.imshow(unique[element[0]])\n",
    "\n",
    "    plt.show()"
   ]
  }
 ],
 "metadata": {
  "kernelspec": {
   "display_name": "Python 3",
   "language": "python",
   "name": "python3"
  },
  "language_info": {
   "codemirror_mode": {
    "name": "ipython",
    "version": 3
   },
   "file_extension": ".py",
   "mimetype": "text/x-python",
   "name": "python",
   "nbconvert_exporter": "python",
   "pygments_lexer": "ipython3",
   "version": "3.9.9"
  }
 },
 "nbformat": 4,
 "nbformat_minor": 2
}
